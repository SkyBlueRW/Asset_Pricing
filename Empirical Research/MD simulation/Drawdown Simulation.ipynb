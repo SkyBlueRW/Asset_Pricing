{
 "cells": [
  {
   "cell_type": "code",
   "execution_count": 1,
   "id": "d3c97a9a",
   "metadata": {},
   "outputs": [],
   "source": [
    "import numpy as np \n",
    "import pandas as pd \n",
    "\n",
    "import scipy.stats as stats\n",
    "import matplotlib.pyplot as plt\n",
    "from statsmodels.sandbox.distributions.extras import pdf_mvsk\n",
    "from scipy.interpolate import interp1d \n",
    "\n",
    "np.random.seed(1000)\n",
    "\n",
    "# total number of simulation \n",
    "N = 100000\n",
    "\n",
    "%matplotlib inline"
   ]
  },
  {
   "cell_type": "markdown",
   "id": "73629592",
   "metadata": {},
   "source": [
    "# Index Data"
   ]
  },
  {
   "cell_type": "code",
   "execution_count": 2,
   "id": "878330e0",
   "metadata": {},
   "outputs": [],
   "source": [
    "spx_daily = pd.read_csv('SPX_daily.csv').set_index('Date')['Adj Close'].pct_change()\n",
    "spx_monthly = pd.read_csv('SPX_daily.csv')[['Date', 'Adj Close']]\n",
    "spx_monthly['Date'] = pd.to_datetime(spx_monthly['Date'])\n",
    "spx_monthly = spx_monthly.set_index('Date')['Adj Close']\n",
    "spx_monthly = spx_monthly.resample('m').last().pct_change().dropna()"
   ]
  },
  {
   "cell_type": "code",
   "execution_count": 3,
   "id": "65303340",
   "metadata": {},
   "outputs": [
    {
     "data": {
      "text/plain": [
       "0.07572491643990997"
      ]
     },
     "execution_count": 3,
     "metadata": {},
     "output_type": "execute_result"
    }
   ],
   "source": [
    "spx_monthly.mean()*12"
   ]
  },
  {
   "cell_type": "code",
   "execution_count": 4,
   "id": "78f061d0",
   "metadata": {},
   "outputs": [
    {
     "data": {
      "text/plain": [
       "0.18610959709764208"
      ]
     },
     "execution_count": 4,
     "metadata": {},
     "output_type": "execute_result"
    }
   ],
   "source": [
    "spx_monthly.std()*np.sqrt(12)"
   ]
  },
  {
   "cell_type": "code",
   "execution_count": 5,
   "id": "ae49caca",
   "metadata": {},
   "outputs": [
    {
     "data": {
      "text/plain": [
       "0.11349673622264717"
      ]
     },
     "execution_count": 5,
     "metadata": {},
     "output_type": "execute_result"
    }
   ],
   "source": [
    "stats.skew(spx_monthly.dropna())"
   ]
  },
  {
   "cell_type": "code",
   "execution_count": 6,
   "id": "8658f3bb",
   "metadata": {},
   "outputs": [
    {
     "data": {
      "text/plain": [
       "7.784222062945982"
      ]
     },
     "execution_count": 6,
     "metadata": {},
     "output_type": "execute_result"
    }
   ],
   "source": [
    "stats.kurtosis(spx_monthly.dropna())"
   ]
  },
  {
   "cell_type": "markdown",
   "id": "092b48a4",
   "metadata": {},
   "source": [
    "# simulation function"
   ]
  },
  {
   "cell_type": "code",
   "execution_count": 7,
   "id": "f22d8bf9",
   "metadata": {},
   "outputs": [],
   "source": [
    "def simulate_normal(mu, sigma, size=(120, N)):\n",
    "    \"\"\"\n",
    "    Simulate return with Gaussian distribution\n",
    "    \"\"\"\n",
    "    return stats.norm.rvs(loc=mu, scale=sigma, size=size)\n",
    "\n",
    "\n",
    "def simulate_sinh_arcsinh(mu, sigma, skew, tailweight, size=(120, N)):\n",
    "    \"\"\"\n",
    "    Simulate return with Gaussian and sinh arcsinh adjustment for skew and kurtosis\n",
    "    https://stats.stackexchange.com/questions/462941/transforming-a-multivariate-normal-sample-using-the-sinh-arcsinh-transform\n",
    "    https://www.tensorflow.org/probability/api_docs/python/tfp/distributions/SinhArcsinh\n",
    "    \"\"\"\n",
    "    z = stats.norm.rvs(loc=0, scale=1, size=size)\n",
    "    f0 = np.sinh(np.arcsinh(z) * tailweight)\n",
    "    f0_2 = np.sinh(np.arcsinh(2) * tailweight)    \n",
    "    f = np.sinh((np.arcsinh(z) + skew) * tailweight) * (2 / f0_2)\n",
    "    \n",
    "    return mu/12 + sigma/np.sqrt(12) * f\n",
    "\n",
    "def simulate_normal_ar(mu, sigma, corr, size=(120, N)):\n",
    "    \"\"\"\n",
    "    Simulate return with Gaussian and auto correlation\n",
    "    \"\"\"\n",
    "\n",
    "    sim_size = (size[0]+1, size[1])\n",
    "    \n",
    "    z = stats.norm.rvs(loc=0, scale=1, size=sim_size)\n",
    "    y = np.zeros(sim_size)\n",
    "    \n",
    "    for row in range(1, sim_size[0]):\n",
    "        y[row] = (1 - corr) * mu + corr * y[row - 1] + np.sqrt(1 - corr**2) * sigma *z[row]\n",
    "      \n",
    "    return y[1:]\n",
    "\n",
    "def simulate_normal_volatility_cluster(mu, sigma, alpha,size=(120, N)):\n",
    "    \"\"\"\n",
    "    Simulate return with Gaussian and volatility clustering\n",
    "    https://quant.stackexchange.com/questions/22685/simulating-returns-from-arma1-0-garch1-1-model\n",
    "    \"\"\"\n",
    "    sim_size = (size[0]+1, N)\n",
    "    e = stats.norm.rvs(loc=0, scale=1, size=sim_size)\n",
    "    r = np.zeros(sim_size)\n",
    "    si = np.zeros(sim_size)\n",
    "    w = sigma**2 * (1 - alpha)\n",
    "    \n",
    "    for row in range(1, sim_size[0]):\n",
    "        si[row] = np.sqrt(w + alpha * (r[row-1]**2))\n",
    "        r[row] = si[row] * e[row]\n",
    "        \n",
    "    r = r + mu\n",
    "    \n",
    "    return r[1:]\n",
    "    \n",
    "\n",
    "def mdd(val):\n",
    "    \"\"\"\n",
    "    Calculate max drawdown for simulation (in negative)\n",
    "    \"\"\"\n",
    "    df = pd.DataFrame(val)\n",
    "    lvl = df.add(1).cumprod()\n",
    "    \n",
    "    max_v = lvl.expanding().max()\n",
    "    dd =   lvl / max_v - 1\n",
    "    \n",
    "    return dd.min()\n",
    "\n",
    "def mdd_distribution(mdd, vol=0.1):\n",
    "    n = len(mdd)\n",
    "    val = [1,2,3,4]\n",
    "    val = [i * vol for i in val]\n",
    "    val = [\n",
    "        len(mdd[mdd <= -i]) / n for i in val\n",
    "    ]\n",
    "    return pd.Series(val, ['P(MDD <= -1 * Sigma)', 'P(MDD <= -2 * Sigma)','P(MDD <= -3 * Sigma)','P(MDD <= -4 * Sigma)'])\n",
    "\n",
    "def simulate_moment(mu, sigma, skew, kurtosis, size=(120, N)):\n",
    "    func = pdf_mvsk([mu, sigma, skew, kurtosis])\n",
    "    class your_distribution(stats.rv_continuous):\n",
    "        def _pdf(self, x):\n",
    "            return func(x)\n",
    "    dist = your_distribution()\n",
    "    res =  dist.rvs(size=size)\n",
    "    print(size)\n",
    "    return res\n",
    "\n",
    "\n",
    "def generate_normal_four_moments(mu, sigma, skew, kurt, size=(120, N), sd_wide = 10):\n",
    "    f = pdf_mvsk([mu, sigma**2, skew, kurt])\n",
    "    x = np.linspace(mu - sd_wide * sigma, mu + sd_wide * sigma, num=1000)\n",
    "    y = [f(i) for i in x]\n",
    "    yy = np.cumsum(y) / np.sum(y)\n",
    "    inv_cdf = interp1d(yy, x, fill_value=\"extrapolate\")\n",
    "    total_size = size[0] * size[1]\n",
    "    rr = np.random.rand(total_size)\n",
    "    res = inv_cdf(rr)\n",
    "    res = np.array(res).reshape(size)\n",
    "    return res"
   ]
  },
  {
   "cell_type": "markdown",
   "id": "5dbc044e",
   "metadata": {},
   "source": [
    "# Chanching Volatility"
   ]
  },
  {
   "cell_type": "code",
   "execution_count": null,
   "id": "62ecb548",
   "metadata": {},
   "outputs": [],
   "source": [
    "%%time\n",
    "volatility_sim = dict()\n",
    "shrape_ratio = 0.5\n",
    "for vol in range(3, 16):\n",
    "    volatility_sim.update({\n",
    "        vol: simulate_normal(vol/100*shrape_ratio/12,vol/100/np.sqrt(12),size=(120, N))\n",
    "    })\n",
    "\n",
    "volatility_mdd_dist = dict()\n",
    "for vol in volatility_sim:\n",
    "    volatility_mdd_dist.update({\n",
    "        vol: mdd(volatility_sim[vol])\n",
    "    })\n",
    "\n",
    "volatility_res = dict()\n",
    "for vol in volatility_mdd_dist:\n",
    "    volatility_res.update({\n",
    "        vol: mdd_distribution(volatility_mdd_dist[vol], vol/100)\n",
    "    })\n",
    "volatility_res = pd.DataFrame(volatility_res).T"
   ]
  },
  {
   "cell_type": "markdown",
   "id": "a0a186c6",
   "metadata": {},
   "source": [
    "# Sharpe ratio"
   ]
  },
  {
   "cell_type": "code",
   "execution_count": null,
   "id": "15d773cf",
   "metadata": {},
   "outputs": [],
   "source": [
    "%%time\n",
    "sharpe_sim = dict()\n",
    "for sharpe in (0, 0.1, 0.2, 0.3, 0.4, 0.5, 0.6,0.7, 0.8, 0.9, 1.):\n",
    "    sharpe_sim.update({\n",
    "        sharpe: simulate_normal(0.1*sharpe/12,\n",
    "                                0.1/np.sqrt(12),size=(120, N))\n",
    "    })\n",
    "\n",
    "sharpe_mdd_dist = dict()\n",
    "for shapre in sharpe_sim:\n",
    "    sharpe_mdd_dist.update({\n",
    "        shapre: mdd(sharpe_sim[shapre])\n",
    "    })\n",
    "\n",
    "sharpe_res = dict()\n",
    "for shapre in sharpe_mdd_dist:\n",
    "    sharpe_res.update({\n",
    "        shapre: mdd_distribution(sharpe_mdd_dist[shapre], 0.1)\n",
    "    })\n",
    "sharpe_res = pd.DataFrame(sharpe_res).T"
   ]
  },
  {
   "cell_type": "markdown",
   "id": "a485eb19",
   "metadata": {},
   "source": [
    "# Time "
   ]
  },
  {
   "cell_type": "code",
   "execution_count": null,
   "id": "a0d6b747",
   "metadata": {},
   "outputs": [],
   "source": [
    "%%time\n",
    "sim_time = simulate_normal(0.05/12,\n",
    "                                0.1/np.sqrt(12),size=(12*40, N))\n",
    "\n",
    "time_sim = dict()\n",
    "for year in range(1,31):\n",
    "    time_sim.update({\n",
    "        year: sim_time[:(year * 12), :]\n",
    "    })\n",
    "\n",
    "time_mdd_dist = dict()\n",
    "for year in time_sim:\n",
    "    time_mdd_dist.update({\n",
    "        year: mdd(time_sim[year])\n",
    "    })\n",
    "\n",
    "time_res = dict()\n",
    "for year in time_mdd_dist:\n",
    "    time_res.update({\n",
    "        year: mdd_distribution(time_mdd_dist[year], 0.1)\n",
    "    })\n",
    "time_res = pd.DataFrame(time_res).T"
   ]
  },
  {
   "cell_type": "code",
   "execution_count": null,
   "id": "db33a04f",
   "metadata": {},
   "outputs": [],
   "source": [
    "def mdd_distribution(mdd, vol=0.1):\n",
    "    n = len(mdd)\n",
    "    val = [1,2,3,4,5]\n",
    "    val = [i * vol for i in val]\n",
    "    val = [\n",
    "        len(mdd[mdd <= -i]) / n for i in val\n",
    "    ]\n",
    "    return pd.Series(val, ['P(MDD <= -1 * Sigma)', 'P(MDD <= -2 * Sigma)','P(MDD <= -3 * Sigma)','P(MDD <= -4 * Sigma)', 'P(MDD <= -5 * Sigma)'])"
   ]
  },
  {
   "cell_type": "code",
   "execution_count": null,
   "id": "4cf40ae5",
   "metadata": {},
   "outputs": [],
   "source": [
    "font = {'family' : 'normal',\n",
    "        'weight' : 'bold',\n",
    "        'size'   : 14}\n",
    "import matplotlib\n",
    "matplotlib.rc('font', **font)\n",
    "\n",
    "fig, ax = plt.subplots(3, 1, figsize=(12, 12))\n",
    "fig.suptitle(\"Probability of |MDD| > 1,2,3,4 Sigma under Gaussian\")\n",
    "\n",
    "ax[0].set_xlabel(\"Volatility\")\n",
    "volatility_res.plot(ax=ax[0], legend=True)\n",
    "\n",
    "ax[1].set_xlabel(\"Sharpe Ratio\")\n",
    "sharpe_res.plot(ax=ax[1], legend=False)\n",
    "\n",
    "ax[2].set_xlabel(\"Years of Horizon\")\n",
    "time_res.plot(ax=ax[2], legend=False)\n",
    "\n",
    "# lines_labels = [ax.get_legend_handles_labels() for ax in fig.axes]\n",
    "# lines, labels = [sum(lol, []) for lol in zip(*lines_labels)]\n",
    "# fig.legend(lines, labels, loc = (0.35, -0.01))"
   ]
  },
  {
   "cell_type": "markdown",
   "id": "9fe73a66",
   "metadata": {},
   "source": [
    "# kurt skew"
   ]
  },
  {
   "cell_type": "code",
   "execution_count": 117,
   "id": "e2d36f5d",
   "metadata": {},
   "outputs": [
    {
     "name": "stdout",
     "output_type": "stream",
     "text": [
      "CPU times: total: 18.5 s\n",
      "Wall time: 38.5 s\n"
     ]
    }
   ],
   "source": [
    "%%time\n",
    "skew_sim = dict()\n",
    "for skew in (-0.3, -0.2, -0.1, 0, 0.1, 0.2, 0.3):\n",
    "    skew_sim.update({\n",
    "        skew: generate_normal_four_moments(0.05/12,\n",
    "                                0.1/np.sqrt(12), skew, 0,size=(120, N))\n",
    "    })\n",
    "\n",
    "skew_mdd_dist = dict()\n",
    "for skew in skew_sim:\n",
    "    skew_mdd_dist.update({\n",
    "        skew: mdd(skew_sim[skew])\n",
    "    })\n",
    "\n",
    "skew_res = dict()\n",
    "for skew in skew_mdd_dist:\n",
    "    skew_res.update({\n",
    "        skew: mdd_distribution(skew_mdd_dist[skew], 0.1)\n",
    "    })\n",
    "skew_res = pd.DataFrame(skew_res).T"
   ]
  },
  {
   "cell_type": "code",
   "execution_count": 118,
   "id": "60cae759",
   "metadata": {},
   "outputs": [
    {
     "name": "stdout",
     "output_type": "stream",
     "text": [
      "CPU times: total: 18.6 s\n",
      "Wall time: 37.7 s\n"
     ]
    }
   ],
   "source": [
    "%%time\n",
    "kurt_sim = dict()\n",
    "for kurt in (0, 1,2,3,4,5,6):\n",
    "    kurt_sim.update({\n",
    "        kurt: generate_normal_four_moments(0.05/12,\n",
    "                                0.1/np.sqrt(12), kurt, 0,size=(120, N))\n",
    "    })\n",
    "\n",
    "kurt_mdd_dist = dict()\n",
    "for kurt in kurt_sim:\n",
    "    kurt_mdd_dist.update({\n",
    "        kurt: mdd(kurt_sim[kurt])\n",
    "    })\n",
    "\n",
    "kurt_res = dict()\n",
    "for kurt in kurt_mdd_dist:\n",
    "    kurt_res.update({\n",
    "        kurt: mdd_distribution(kurt_mdd_dist[kurt], 0.1)\n",
    "    })\n",
    "kurt_res = pd.DataFrame(kurt_res).T"
   ]
  },
  {
   "cell_type": "code",
   "execution_count": null,
   "id": "4cc3e40d",
   "metadata": {},
   "outputs": [],
   "source": [
    "font = {'family' : 'normal',\n",
    "        'weight' : 'bold',\n",
    "        'size'   : 14}\n",
    "import matplotlib\n",
    "matplotlib.rc('font', **font)\n",
    "\n",
    "fig, ax = plt.subplots(2, 1, figsize=(12, 12))\n",
    "fig.suptitle(\"Probability of |MDD| > 1,2,3,4 Sigma with Varying Skew/Kurtosis\")\n",
    "\n",
    "ax[0].set_xlabel(\"Skew\")\n",
    "skew_res.plot(ax=ax[0], legend=True)\n",
    "\n",
    "ax[1].set_xlabel(\"Kurtosis\")\n",
    "kurt_res.plot(ax=ax[1], legend=False)"
   ]
  },
  {
   "cell_type": "code",
   "execution_count": null,
   "id": "6287bc58",
   "metadata": {},
   "outputs": [],
   "source": [
    "%%time\n",
    "skew_sim = dict()\n",
    "for skew in (-0.3, -0.2, -0.1, 0, 0.1, 0.2, 0.3):\n",
    "    skew_sim.update({\n",
    "        skew: generate_normal_four_moments(0.05/12,\n",
    "                                0.1/np.sqrt(12), skew, 0,size=(60, N))\n",
    "    })\n",
    "\n",
    "skew_mdd_dist = dict()\n",
    "for skew in skew_sim:\n",
    "    skew_mdd_dist.update({\n",
    "        skew: mdd(skew_sim[skew])\n",
    "    })\n",
    "\n",
    "skew_res = dict()\n",
    "for skew in skew_mdd_dist:\n",
    "    skew_res.update({\n",
    "        skew: mdd_distribution(skew_mdd_dist[skew], 0.1)\n",
    "    })\n",
    "skew_res = pd.DataFrame(skew_res).T"
   ]
  },
  {
   "cell_type": "code",
   "execution_count": null,
   "id": "1ff880b9",
   "metadata": {},
   "outputs": [],
   "source": [
    "%%time\n",
    "kurt_sim = dict()\n",
    "for kurt in (0, 1,2,3,4,5,6):\n",
    "    kurt_sim.update({\n",
    "        kurt: generate_normal_four_moments(0.05/12,\n",
    "                                0.1/np.sqrt(12), kurt, 0,size=(60, N))\n",
    "    })\n",
    "\n",
    "kurt_mdd_dist = dict()\n",
    "for kurt in kurt_sim:\n",
    "    kurt_mdd_dist.update({\n",
    "        kurt: mdd(kurt_sim[kurt])\n",
    "    })\n",
    "\n",
    "kurt_res = dict()\n",
    "for kurt in kurt_mdd_dist:\n",
    "    kurt_res.update({\n",
    "        kurt: mdd_distribution(kurt_mdd_dist[kurt], 0.1)\n",
    "    })\n",
    "kurt_res = pd.DataFrame(kurt_res).T"
   ]
  },
  {
   "cell_type": "code",
   "execution_count": 120,
   "id": "d369ba5a",
   "metadata": {},
   "outputs": [
    {
     "data": {
      "text/plain": [
       "<AxesSubplot:xlabel='Kurtosis'>"
      ]
     },
     "execution_count": 120,
     "metadata": {},
     "output_type": "execute_result"
    },
    {
     "data": {
      "image/png": "[encoded data removed]",
      "text/plain": [
       "<Figure size 864x576 with 2 Axes>"
      ]
     },
     "metadata": {
      "needs_background": "light"
     },
     "output_type": "display_data"
    }
   ],
   "source": [
    "font = {'family' : 'normal',\n",
    "        'weight' : 'bold',\n",
    "        'size'   : 14}\n",
    "import matplotlib\n",
    "matplotlib.rc('font', **font)\n",
    "\n",
    "fig, ax = plt.subplots(2, 1, figsize=(12, 8))\n",
    "fig.suptitle(\"Probability of |MDD| > 1,2,3,4 Sigma with changing Skew/Kurtosis\")\n",
    "\n",
    "ax[0].set_xlabel(\"Skew\")\n",
    "skew_res.plot(ax=ax[0], legend=True)\n",
    "\n",
    "ax[1].set_xlabel(\"Kurtosis\")\n",
    "kurt_res.plot(ax=ax[1], legend=False)"
   ]
  },
  {
   "cell_type": "markdown",
   "id": "d48cfd6e",
   "metadata": {},
   "source": [
    "# auto correlation"
   ]
  },
  {
   "cell_type": "code",
   "execution_count": 111,
   "id": "691300fd",
   "metadata": {},
   "outputs": [
    {
     "name": "stdout",
     "output_type": "stream",
     "text": [
      "CPU times: total: 28.5 s\n",
      "Wall time: 50 s\n"
     ]
    }
   ],
   "source": [
    "%%time\n",
    "corr_sim = dict()\n",
    "for corr in (-0.5,-0.4,-0.3,-0.2,-0.1,0, 0.1, 0.2, 0.3,0.4,0.5):\n",
    "    corr_sim.update({\n",
    "        corr:simulate_normal_ar(0.05/12, 0.1/np.sqrt(12),corr)\n",
    "    })\n",
    "\n",
    "corr_mdd_dist = dict()\n",
    "for corr in corr_sim:\n",
    "    corr_mdd_dist.update({\n",
    "        corr: mdd(corr_sim[corr])\n",
    "    })\n",
    "\n",
    "corr_res = dict()\n",
    "for corr in corr_mdd_dist:\n",
    "    corr_res.update({\n",
    "        corr: mdd_distribution(corr_mdd_dist[corr], 0.1)\n",
    "    })\n",
    "corr_res = pd.DataFrame(corr_res).T"
   ]
  },
  {
   "cell_type": "code",
   "execution_count": 112,
   "id": "cfc82813",
   "metadata": {},
   "outputs": [
    {
     "name": "stdout",
     "output_type": "stream",
     "text": [
      "CPU times: total: 19.5 s\n",
      "Wall time: 40.2 s\n"
     ]
    }
   ],
   "source": [
    "%%time\n",
    "cl_sim = dict()\n",
    "for cl in (0, 0.1, 0.2, 0.3, 0.4, 0.5, 0.6, 0.7, 0.8):\n",
    "    cl_sim.update({\n",
    "        cl:simulate_normal_ar(0.05/12, 0.1/np.sqrt(12),cl)\n",
    "    })\n",
    "\n",
    "cl_mdd_dist = dict()\n",
    "for cl in cl_sim:\n",
    "    cl_mdd_dist.update({\n",
    "        cl: mdd(cl_sim[cl])\n",
    "    })\n",
    "\n",
    "cl_res = dict()\n",
    "for cl in cl_mdd_dist:\n",
    "    cl_res.update({\n",
    "        cl: mdd_distribution(cl_mdd_dist[cl], 0.1)\n",
    "    })\n",
    "cl_res = pd.DataFrame(cl_res).T"
   ]
  },
  {
   "cell_type": "code",
   "execution_count": 121,
   "id": "399498a1",
   "metadata": {},
   "outputs": [
    {
     "data": {
      "text/plain": [
       "<AxesSubplot:xlabel='Alpha in Arch'>"
      ]
     },
     "execution_count": 121,
     "metadata": {},
     "output_type": "execute_result"
    },
    {
     "data": {
      "image/png": "[encoded data removed]",
      "text/plain": [
       "<Figure size 864x576 with 2 Axes>"
      ]
     },
     "metadata": {
      "needs_background": "light"
     },
     "output_type": "display_data"
    }
   ],
   "source": [
    "font = {'family' : 'normal',\n",
    "        'weight' : 'bold',\n",
    "        'size'   : 14}\n",
    "import matplotlib\n",
    "matplotlib.rc('font', **font)\n",
    "\n",
    "fig, ax = plt.subplots(2, 1, figsize=(12, 8))\n",
    "fig.suptitle(\"Probability of |MDD| > 1,2,3,4 Sigma with Varying auto-correlation / volatility clustering\")\n",
    "\n",
    "ax[0].set_xlabel(\"AutoCorrelation\")\n",
    "corr_res.plot(ax=ax[0], legend=True)\n",
    "\n",
    "ax[1].set_xlabel(\"Alpha in Arch\")\n",
    "cl_res.plot(ax=ax[1], legend=False)"
   ]
  },
  {
   "cell_type": "markdown",
   "id": "f6f984d8",
   "metadata": {},
   "source": [
    "# Other not used"
   ]
  },
  {
   "cell_type": "code",
   "execution_count": 105,
   "id": "a4ad38d6",
   "metadata": {},
   "outputs": [],
   "source": [
    "test = simulate_normal_volatility_cluster(0.05/12, 0.1/np.sqrt(12), 0., (10000,1)).reshape(-1)"
   ]
  },
  {
   "cell_type": "code",
   "execution_count": 106,
   "id": "1584a7e2",
   "metadata": {},
   "outputs": [
    {
     "data": {
      "text/plain": [
       "0.004014626846530548"
      ]
     },
     "execution_count": 106,
     "metadata": {},
     "output_type": "execute_result"
    }
   ],
   "source": [
    "test.mean()"
   ]
  },
  {
   "cell_type": "code",
   "execution_count": 107,
   "id": "c93741e2",
   "metadata": {},
   "outputs": [
    {
     "data": {
      "text/plain": [
       "0.1009418923974534"
      ]
     },
     "execution_count": 107,
     "metadata": {},
     "output_type": "execute_result"
    }
   ],
   "source": [
    "test.std() * np.sqrt(12)"
   ]
  },
  {
   "cell_type": "code",
   "execution_count": 108,
   "id": "8f6a909d",
   "metadata": {},
   "outputs": [],
   "source": [
    "t = pd.Series(test)"
   ]
  },
  {
   "cell_type": "code",
   "execution_count": 109,
   "id": "607c3456",
   "metadata": {},
   "outputs": [
    {
     "data": {
      "text/plain": [
       "-0.009870957802175201"
      ]
     },
     "execution_count": 109,
     "metadata": {},
     "output_type": "execute_result"
    }
   ],
   "source": [
    "(t**2).autocorr()"
   ]
  },
  {
   "cell_type": "code",
   "execution_count": 97,
   "id": "54821cb9",
   "metadata": {},
   "outputs": [],
   "source": [
    "from arch import arch_model"
   ]
  },
  {
   "cell_type": "code",
   "execution_count": 98,
   "id": "2f3d968c",
   "metadata": {},
   "outputs": [],
   "source": [
    "am = arch_model(pt * 100, vol='garch', p=0,o=1, q=1, dist='Normal')\n"
   ]
  },
  {
   "cell_type": "code",
   "execution_count": 99,
   "id": "590fc9ae",
   "metadata": {},
   "outputs": [
    {
     "name": "stdout",
     "output_type": "stream",
     "text": [
      "Iteration:      1,   Func. Count:      6,   Neg. LLF: 136660.75758528727\n",
      "Iteration:      2,   Func. Count:     15,   Neg. LLF: 136203.4689794018\n",
      "Iteration:      3,   Func. Count:     23,   Neg. LLF: 8631673969.344753\n",
      "Iteration:      4,   Func. Count:     29,   Neg. LLF: 50276.582443339554\n",
      "Iteration:      5,   Func. Count:     35,   Neg. LLF: 237074.6380327281\n",
      "Iteration:      6,   Func. Count:     42,   Neg. LLF: 49550.45415358167\n",
      "Iteration:      7,   Func. Count:     48,   Neg. LLF: 49345.49303648148\n",
      "Iteration:      8,   Func. Count:     53,   Neg. LLF: 49345.44513768963\n",
      "Iteration:      9,   Func. Count:     58,   Neg. LLF: 49345.44075305872\n",
      "Iteration:     10,   Func. Count:     63,   Neg. LLF: 49345.440481438956\n",
      "Iteration:     11,   Func. Count:     68,   Neg. LLF: 49345.44047825124\n",
      "Iteration:     12,   Func. Count:     72,   Neg. LLF: 49345.440478253186\n",
      "Optimization terminated successfully    (Exit mode 0)\n",
      "            Current function value: 49345.44047825124\n",
      "            Iterations: 12\n",
      "            Function evaluations: 72\n",
      "            Gradient evaluations: 12\n"
     ]
    }
   ],
   "source": [
    "res = am.fit()"
   ]
  },
  {
   "cell_type": "code",
   "execution_count": 100,
   "id": "53040b43",
   "metadata": {},
   "outputs": [
    {
     "data": {
      "text/html": [
       "<table class=\"simpletable\">\n",
       "<caption>Constant Mean - GJR-GARCH Model Results</caption>\n",
       "<tr>\n",
       "  <th>Dep. Variable:</th>        <td>None</td>        <th>  R-squared:         </th>  <td>   0.000</td> \n",
       "</tr>\n",
       "<tr>\n",
       "  <th>Mean Model:</th>       <td>Constant Mean</td>   <th>  Adj. R-squared:    </th>  <td>   0.000</td> \n",
       "</tr>\n",
       "<tr>\n",
       "  <th>Vol Model:</th>          <td>GJR-GARCH</td>     <th>  Log-Likelihood:    </th> <td>  -49345.4</td>\n",
       "</tr>\n",
       "<tr>\n",
       "  <th>Distribution:</th>        <td>Normal</td>       <th>  AIC:               </th> <td>   98698.9</td>\n",
       "</tr>\n",
       "<tr>\n",
       "  <th>Method:</th>        <td>Maximum Likelihood</td> <th>  BIC:               </th> <td>   98730.5</td>\n",
       "</tr>\n",
       "<tr>\n",
       "  <th></th>                        <td></td>          <th>  No. Observations:  </th>    <td>20000</td>  \n",
       "</tr>\n",
       "<tr>\n",
       "  <th>Date:</th>           <td>Sun, Sep 24 2023</td>  <th>  Df Residuals:      </th>    <td>19999</td>  \n",
       "</tr>\n",
       "<tr>\n",
       "  <th>Time:</th>               <td>13:24:53</td>      <th>  Df Model:          </th>      <td>1</td>    \n",
       "</tr>\n",
       "</table>\n",
       "<table class=\"simpletable\">\n",
       "<caption>Mean Model</caption>\n",
       "<tr>\n",
       "   <td></td>     <th>coef</th>     <th>std err</th>      <th>t</th>       <th>P>|t|</th>   <th>95.0% Conf. Int.</th> \n",
       "</tr>\n",
       "<tr>\n",
       "  <th>mu</th> <td>    0.4071</td> <td>1.990e-02</td> <td>   20.454</td> <td>5.536e-93</td> <td>[  0.368,  0.446]</td>\n",
       "</tr>\n",
       "</table>\n",
       "<table class=\"simpletable\">\n",
       "<caption>Volatility Model</caption>\n",
       "<tr>\n",
       "      <td></td>        <th>coef</th>     <th>std err</th>      <th>t</th>       <th>P>|t|</th>   <th>95.0% Conf. Int.</th> \n",
       "</tr>\n",
       "<tr>\n",
       "  <th>omega</th>    <td>    1.6927</td> <td>    0.109</td> <td>   15.552</td> <td>1.539e-54</td> <td>[  1.479,  1.906]</td>\n",
       "</tr>\n",
       "<tr>\n",
       "  <th>gamma[1]</th> <td>    0.1594</td> <td>1.260e-02</td> <td>   12.651</td> <td>1.101e-36</td> <td>[  0.135,  0.184]</td>\n",
       "</tr>\n",
       "<tr>\n",
       "  <th>beta[1]</th>  <td>    0.7227</td> <td>1.542e-02</td> <td>   46.869</td>   <td>0.000</td>   <td>[  0.692,  0.753]</td>\n",
       "</tr>\n",
       "</table><br/><br/>Covariance estimator: robust"
      ],
      "text/plain": [
       "<class 'statsmodels.iolib.summary.Summary'>\n",
       "\"\"\"\n",
       "                   Constant Mean - GJR-GARCH Model Results                    \n",
       "==============================================================================\n",
       "Dep. Variable:                   None   R-squared:                       0.000\n",
       "Mean Model:             Constant Mean   Adj. R-squared:                  0.000\n",
       "Vol Model:                  GJR-GARCH   Log-Likelihood:               -49345.4\n",
       "Distribution:                  Normal   AIC:                           98698.9\n",
       "Method:            Maximum Likelihood   BIC:                           98730.5\n",
       "                                        No. Observations:                20000\n",
       "Date:                Sun, Sep 24 2023   Df Residuals:                    19999\n",
       "Time:                        13:24:53   Df Model:                            1\n",
       "                               Mean Model                               \n",
       "========================================================================\n",
       "                 coef    std err          t      P>|t|  95.0% Conf. Int.\n",
       "------------------------------------------------------------------------\n",
       "mu             0.4071  1.990e-02     20.454  5.536e-93 [  0.368,  0.446]\n",
       "                            Volatility Model                            \n",
       "========================================================================\n",
       "                 coef    std err          t      P>|t|  95.0% Conf. Int.\n",
       "------------------------------------------------------------------------\n",
       "omega          1.6927      0.109     15.552  1.539e-54 [  1.479,  1.906]\n",
       "gamma[1]       0.1594  1.260e-02     12.651  1.101e-36 [  0.135,  0.184]\n",
       "beta[1]        0.7227  1.542e-02     46.869      0.000 [  0.692,  0.753]\n",
       "========================================================================\n",
       "\n",
       "Covariance estimator: robust\n",
       "\"\"\""
      ]
     },
     "execution_count": 100,
     "metadata": {},
     "output_type": "execute_result"
    }
   ],
   "source": [
    "res.summary()"
   ]
  },
  {
   "cell_type": "code",
   "execution_count": null,
   "id": "929cd6fc",
   "metadata": {},
   "outputs": [],
   "source": []
  },
  {
   "cell_type": "code",
   "execution_count": 110,
   "id": "835c387e",
   "metadata": {},
   "outputs": [],
   "source": [
    "def simulate_normal_volatility_cluster(mu, sigma, alpha, size=(120, N)):\n",
    "    \"\"\"\n",
    "    Simulate return with Gaussian and volatility clustering\n",
    "    https://quant.stackexchange.com/questions/22685/simulating-returns-from-arma1-0-garch1-1-model\n",
    "    \"\"\"\n",
    "    sim_size = (size[0]+1, size[1] + 1)\n",
    "    e = stats.norm.rvs(loc=0, scale=1, size=sim_size)\n",
    "    r = np.zeros(sim_size)\n",
    "    si = e.copy()\n",
    "    w = (sigma**2) * (1 - alpha)\n",
    "    \n",
    "    for row in range(1, sim_size[0]):\n",
    "        si[row] = np.sqrt(w + alpha * (r[row-1]**2))\n",
    "        r[row] = si[row] * e[row]\n",
    "        \n",
    "    r = r + mu\n",
    "    \n",
    "    return r[1:]"
   ]
  },
  {
   "cell_type": "markdown",
   "id": "358cc576",
   "metadata": {},
   "source": [
    "# Mixed Gaussian"
   ]
  },
  {
   "cell_type": "code",
   "execution_count": 347,
   "id": "39bd4533",
   "metadata": {},
   "outputs": [],
   "source": [
    "def cal_exteme_mu_sigma(alpha0, mu, sigma, mu1, sigma1):\n",
    "    alpha1 = 1 - alpha0\n",
    "    mu0 = (mu - alpha1 * mu1) / alpha0\n",
    "#     sigma0 = np.sqrt((sigma ** 2 - alpha1 * sigma1 ** 2 - alpha0 * alpha1 * (mu0 - mu1) **2) / alpha0)\n",
    "#     print((sigma ** 2 - alpha1 * sigma1 ** 2 - alpha0 * alpha1 * (mu0 - mu1) **2) / alpha0)\n",
    "    sigma0 = np.sqrt((sigma ** 2 - alpha1 * sigma1**2 -alpha1 * (mu1-mu)**2 -alpha0 * (mu0 - mu)**2) / alpha0)\n",
    "    return mu0, sigma0  \n",
    "\n",
    "def simulate_mg(alpha, mu, sigma, mu1, sigma1, size=(120, N)):\n",
    "    mu0, sigma0 = cal_exteme_mu_sigma(alpha, mu, sigma, mu1, sigma1)\n",
    "    print(mu0 * 12, mu1 * 12, sigma0* np.sqrt(12), sigma1 * np.sqrt(12))\n",
    "    \n",
    "    dist0 = stats.norm.rvs(loc=mu0, scale=sigma0, size=size)\n",
    "    dist1 = stats.norm.rvs(loc=mu1, scale=sigma1, size=size)\n",
    "    \n",
    "    alpha0 = stats.rv_discrete(name='custm', values=([0, 1], [1-alpha, alpha])).rvs(size=size)\n",
    "    alpha1 = -1 * (alpha0 - 1)\n",
    "    \n",
    "    dist = dist0 * alpha0 + dist1 * alpha1\n",
    "\n",
    "    return dist"
   ]
  },
  {
   "cell_type": "code",
   "execution_count": 365,
   "id": "0183d4ef",
   "metadata": {},
   "outputs": [
    {
     "name": "stdout",
     "output_type": "stream",
     "text": [
      "-0.5470000000000009 0.053000000000000005 0.8345957105089866 0.08\n",
      "-0.2470000000000007 0.053000000000000005 0.5991452244656549 0.08\n",
      "-0.09700000000000003 0.053000000000000005 0.42960737889379885 0.08\n",
      "-0.047000000000000174 0.053000000000000005 0.3543891458082016 0.08\n",
      "-0.02199999999999997 0.053000000000000005 0.30975797003467087 0.08\n",
      "-0.007000000000000062 0.053000000000000005 0.2794906080711837 0.08\n",
      "CPU times: total: 18.6 s\n",
      "Wall time: 32.1 s\n"
     ]
    }
   ],
   "source": [
    "%%time\n",
    "mg_sim = dict()\n",
    "# for mg in (0.005, 0.01, 0.015, 0.02, 0.025, 0.03, 0.035, 0.04):\n",
    "# mg_sim.update({\n",
    "#     1: simulate_normal(0.05/12, 0.1/np.sqrt(12),size=(120, N))\n",
    "# })\n",
    "for mg in (0.005, 0.01, 0.02, 0.03, 0.04, 0.05):\n",
    "    mg_sim.update({\n",
    "#         mg:simulate_normal_ar(0.05/12, 0.1/np.sqrt(12),cl)\n",
    "        mg: simulate_mg(mg, 0.05/12, 0.1/np.sqrt(12), 0.053 / 12, 0.08/np.sqrt(12))\n",
    "    })\n",
    "\n",
    "mg_mdd_dist = dict()\n",
    "for mg in mg_sim:\n",
    "    mg_mdd_dist.update({\n",
    "        mg: mdd(mg_sim[mg])\n",
    "    })\n",
    "\n",
    "mg_res = dict()\n",
    "for mg in mg_mdd_dist:\n",
    "    mg_res.update({\n",
    "        mg: mdd_distribution(mg_mdd_dist[mg], 0.1)\n",
    "    })\n",
    "mg_res = pd.DataFrame(mg_res).T\n",
    "mg_res = mg_res.sort_index()"
   ]
  },
  {
   "cell_type": "code",
   "execution_count": 366,
   "id": "68b4bb9c",
   "metadata": {},
   "outputs": [
    {
     "data": {
      "text/plain": [
       "0.10003261862891821"
      ]
     },
     "execution_count": 366,
     "metadata": {},
     "output_type": "execute_result"
    }
   ],
   "source": [
    "mg_sim[0.05].std() * np.sqrt(12)"
   ]
  },
  {
   "cell_type": "code",
   "execution_count": 367,
   "id": "3c43677b",
   "metadata": {},
   "outputs": [
    {
     "data": {
      "text/plain": [
       "(array([2.000000e+00, 2.000000e+00, 1.000000e+00, 0.000000e+00,\n",
       "        1.000000e+00, 0.000000e+00, 1.000000e+00, 1.000000e+00,\n",
       "        4.000000e+00, 1.000000e+00, 4.000000e+00, 1.000000e+00,\n",
       "        5.000000e+00, 1.100000e+01, 1.600000e+01, 2.300000e+01,\n",
       "        2.500000e+01, 3.000000e+01, 2.500000e+01, 3.900000e+01,\n",
       "        5.600000e+01, 6.600000e+01, 7.900000e+01, 9.800000e+01,\n",
       "        1.380000e+02, 1.540000e+02, 1.670000e+02, 2.110000e+02,\n",
       "        2.890000e+02, 3.300000e+02, 3.390000e+02, 4.280000e+02,\n",
       "        5.410000e+02, 5.690000e+02, 6.420000e+02, 7.290000e+02,\n",
       "        8.610000e+02, 9.080000e+02, 1.027000e+03, 1.084000e+03,\n",
       "        1.234000e+03, 1.428000e+03, 1.382000e+03, 1.621000e+03,\n",
       "        1.519000e+03, 1.683000e+03, 1.786000e+03, 1.840000e+03,\n",
       "        2.002000e+03, 2.160000e+03, 7.511000e+03, 8.934900e+04,\n",
       "        6.547570e+05, 2.332394e+06, 3.996903e+06, 3.293594e+06,\n",
       "        1.308269e+06, 2.496090e+05, 2.401700e+04, 2.683000e+03,\n",
       "        1.608000e+03, 1.481000e+03, 1.352000e+03, 1.222000e+03,\n",
       "        1.159000e+03, 1.039000e+03, 9.700000e+02, 9.010000e+02,\n",
       "        7.890000e+02, 6.860000e+02, 6.530000e+02, 5.670000e+02,\n",
       "        4.920000e+02, 3.750000e+02, 3.330000e+02, 3.100000e+02,\n",
       "        2.610000e+02, 2.050000e+02, 1.850000e+02, 1.480000e+02,\n",
       "        1.310000e+02, 9.200000e+01, 8.600000e+01, 6.800000e+01,\n",
       "        5.200000e+01, 3.700000e+01, 3.500000e+01, 2.300000e+01,\n",
       "        2.500000e+01, 1.800000e+01, 1.400000e+01, 8.000000e+00,\n",
       "        6.000000e+00, 6.000000e+00, 5.000000e+00, 3.000000e+00,\n",
       "        3.000000e+00, 2.000000e+00, 0.000000e+00, 1.000000e+00]),\n",
       " array([-1.11294478, -1.09253115, -1.07211751, -1.05170387, -1.03129023,\n",
       "        -1.01087659, -0.99046296, -0.97004932, -0.94963568, -0.92922204,\n",
       "        -0.9088084 , -0.88839476, -0.86798113, -0.84756749, -0.82715385,\n",
       "        -0.80674021, -0.78632657, -0.76591293, -0.7454993 , -0.72508566,\n",
       "        -0.70467202, -0.68425838, -0.66384474, -0.64343111, -0.62301747,\n",
       "        -0.60260383, -0.58219019, -0.56177655, -0.54136291, -0.52094928,\n",
       "        -0.50053564, -0.480122  , -0.45970836, -0.43929472, -0.41888108,\n",
       "        -0.39846745, -0.37805381, -0.35764017, -0.33722653, -0.31681289,\n",
       "        -0.29639926, -0.27598562, -0.25557198, -0.23515834, -0.2147447 ,\n",
       "        -0.19433106, -0.17391743, -0.15350379, -0.13309015, -0.11267651,\n",
       "        -0.09226287, -0.07184923, -0.0514356 , -0.03102196, -0.01060832,\n",
       "         0.00980532,  0.03021896,  0.05063259,  0.07104623,  0.09145987,\n",
       "         0.11187351,  0.13228715,  0.15270079,  0.17311442,  0.19352806,\n",
       "         0.2139417 ,  0.23435534,  0.25476898,  0.27518262,  0.29559625,\n",
       "         0.31600989,  0.33642353,  0.35683717,  0.37725081,  0.39766444,\n",
       "         0.41807808,  0.43849172,  0.45890536,  0.479319  ,  0.49973264,\n",
       "         0.52014627,  0.54055991,  0.56097355,  0.58138719,  0.60180083,\n",
       "         0.62221447,  0.6426281 ,  0.66304174,  0.68345538,  0.70386902,\n",
       "         0.72428266,  0.74469629,  0.76510993,  0.78552357,  0.80593721,\n",
       "         0.82635085,  0.84676449,  0.86717812,  0.88759176,  0.9080054 ,\n",
       "         0.92841904]),\n",
       " <BarContainer object of 100 artists>)"
      ]
     },
     "execution_count": 367,
     "metadata": {},
     "output_type": "execute_result"
    },
    {
     "data": {
      "image/png": "[encoded data removed]",
      "text/plain": [
       "<Figure size 432x288 with 1 Axes>"
      ]
     },
     "metadata": {
      "needs_background": "light"
     },
     "output_type": "display_data"
    }
   ],
   "source": [
    "plt.hist(mg_sim[0.005].reshape(-1), bins=100)"
   ]
  },
  {
   "cell_type": "code",
   "execution_count": 368,
   "id": "9b01a135",
   "metadata": {},
   "outputs": [
    {
     "data": {
      "text/html": [
       "<div>\n",
       "<style scoped>\n",
       "    .dataframe tbody tr th:only-of-type {\n",
       "        vertical-align: middle;\n",
       "    }\n",
       "\n",
       "    .dataframe tbody tr th {\n",
       "        vertical-align: top;\n",
       "    }\n",
       "\n",
       "    .dataframe thead th {\n",
       "        text-align: right;\n",
       "    }\n",
       "</style>\n",
       "<table border=\"1\" class=\"dataframe\">\n",
       "  <thead>\n",
       "    <tr style=\"text-align: right;\">\n",
       "      <th></th>\n",
       "      <th>P(MDD &lt;= -1 * Sigma)</th>\n",
       "      <th>P(MDD &lt;= -2 * Sigma)</th>\n",
       "      <th>P(MDD &lt;= -3 * Sigma)</th>\n",
       "      <th>P(MDD &lt;= -4 * Sigma)</th>\n",
       "    </tr>\n",
       "  </thead>\n",
       "  <tbody>\n",
       "    <tr>\n",
       "      <th>0.005</th>\n",
       "      <td>0.85517</td>\n",
       "      <td>0.29503</td>\n",
       "      <td>0.13303</td>\n",
       "      <td>0.06970</td>\n",
       "    </tr>\n",
       "    <tr>\n",
       "      <th>0.010</th>\n",
       "      <td>0.87832</td>\n",
       "      <td>0.35723</td>\n",
       "      <td>0.14770</td>\n",
       "      <td>0.05552</td>\n",
       "    </tr>\n",
       "    <tr>\n",
       "      <th>0.020</th>\n",
       "      <td>0.90596</td>\n",
       "      <td>0.39997</td>\n",
       "      <td>0.13453</td>\n",
       "      <td>0.03581</td>\n",
       "    </tr>\n",
       "    <tr>\n",
       "      <th>0.030</th>\n",
       "      <td>0.92165</td>\n",
       "      <td>0.41785</td>\n",
       "      <td>0.12532</td>\n",
       "      <td>0.02897</td>\n",
       "    </tr>\n",
       "    <tr>\n",
       "      <th>0.040</th>\n",
       "      <td>0.93242</td>\n",
       "      <td>0.42474</td>\n",
       "      <td>0.11912</td>\n",
       "      <td>0.02402</td>\n",
       "    </tr>\n",
       "    <tr>\n",
       "      <th>0.050</th>\n",
       "      <td>0.93924</td>\n",
       "      <td>0.42202</td>\n",
       "      <td>0.11416</td>\n",
       "      <td>0.02236</td>\n",
       "    </tr>\n",
       "  </tbody>\n",
       "</table>\n",
       "</div>"
      ],
      "text/plain": [
       "       P(MDD <= -1 * Sigma)  P(MDD <= -2 * Sigma)  P(MDD <= -3 * Sigma)  \\\n",
       "0.005               0.85517               0.29503               0.13303   \n",
       "0.010               0.87832               0.35723               0.14770   \n",
       "0.020               0.90596               0.39997               0.13453   \n",
       "0.030               0.92165               0.41785               0.12532   \n",
       "0.040               0.93242               0.42474               0.11912   \n",
       "0.050               0.93924               0.42202               0.11416   \n",
       "\n",
       "       P(MDD <= -4 * Sigma)  \n",
       "0.005               0.06970  \n",
       "0.010               0.05552  \n",
       "0.020               0.03581  \n",
       "0.030               0.02897  \n",
       "0.040               0.02402  \n",
       "0.050               0.02236  "
      ]
     },
     "execution_count": 368,
     "metadata": {},
     "output_type": "execute_result"
    }
   ],
   "source": [
    "mg_res "
   ]
  },
  {
   "cell_type": "code",
   "execution_count": 369,
   "id": "dc8471e4",
   "metadata": {},
   "outputs": [
    {
     "data": {
      "text/plain": [
       "<AxesSubplot:xlabel='AutoCorrelation'>"
      ]
     },
     "execution_count": 369,
     "metadata": {},
     "output_type": "execute_result"
    },
    {
     "data": {
      "image/png": "[encoded data removed]",
      "text/plain": [
       "<Figure size 864x576 with 2 Axes>"
      ]
     },
     "metadata": {
      "needs_background": "light"
     },
     "output_type": "display_data"
    }
   ],
   "source": [
    "font = {'family' : 'normal',\n",
    "        'weight' : 'bold',\n",
    "        'size'   : 14}\n",
    "import matplotlib\n",
    "matplotlib.rc('font', **font)\n",
    "\n",
    "fig, ax = plt.subplots(2, 1, figsize=(12, 8))\n",
    "fig.suptitle(\"Probability of |MDD| > 1,2,3,4 Sigma with Varying auto-correlation / volatility clustering\")\n",
    "\n",
    "ax[0].set_xlabel(\"AutoCorrelation\")\n",
    "mg_res.plot(ax=ax[0], legend=True)\n",
    "\n",
    "# ax[1].set_xlabel(\"Alpha in Arch\")\n",
    "# cl_res.plot(ax=ax[1], legend=False)"
   ]
  },
  {
   "cell_type": "code",
   "execution_count": null,
   "id": "6d7322e2",
   "metadata": {},
   "outputs": [],
   "source": []
  },
  {
   "cell_type": "code",
   "execution_count": null,
   "id": "cac106c1",
   "metadata": {},
   "outputs": [],
   "source": []
  },
  {
   "cell_type": "code",
   "execution_count": 219,
   "id": "b5b69e4c",
   "metadata": {},
   "outputs": [],
   "source": [
    "test = simulate_mg(0.05, 0.05, 0.1, 0.053, 0.097, size=(10000,))"
   ]
  },
  {
   "cell_type": "code",
   "execution_count": 220,
   "id": "ddfa7ae9",
   "metadata": {},
   "outputs": [
    {
     "data": {
      "text/plain": [
       "(array([  1.,   0.,   1.,   0.,   0.,   1.,   1.,   1.,   0.,   0.,   0.,\n",
       "          1.,   0.,   0.,   0.,   2.,   1.,   4.,   5.,   4.,   8.,   7.,\n",
       "         11.,  15.,  19.,  24.,  22.,  28.,  36.,  36.,  51.,  54.,  56.,\n",
       "         72.,  67.,  84.,  86., 127., 114., 151., 165., 176., 201., 215.,\n",
       "        241., 235., 246., 246., 270., 267., 305., 273., 292., 336., 353.,\n",
       "        329., 333., 329., 302., 295., 277., 298., 269., 235., 260., 219.,\n",
       "        226., 179., 192., 159., 160., 148., 126.,  89.,  98.,  89.,  68.,\n",
       "         66.,  60.,  47.,  36.,  31.,  31.,  16.,  22.,  25.,  16.,   8.,\n",
       "         16.,   7.,  12.,   5.,   1.,   1.,   2.,   1.,   1.,   3.,   1.,\n",
       "          1.]),\n",
       " array([-0.1215999 , -0.11931988, -0.11703985, -0.11475983, -0.1124798 ,\n",
       "        -0.11019978, -0.10791976, -0.10563973, -0.10335971, -0.10107969,\n",
       "        -0.09879966, -0.09651964, -0.09423961, -0.09195959, -0.08967957,\n",
       "        -0.08739954, -0.08511952, -0.0828395 , -0.08055947, -0.07827945,\n",
       "        -0.07599943, -0.0737194 , -0.07143938, -0.06915935, -0.06687933,\n",
       "        -0.06459931, -0.06231928, -0.06003926, -0.05775924, -0.05547921,\n",
       "        -0.05319919, -0.05091916, -0.04863914, -0.04635912, -0.04407909,\n",
       "        -0.04179907, -0.03951905, -0.03723902, -0.034959  , -0.03267897,\n",
       "        -0.03039895, -0.02811893, -0.0258389 , -0.02355888, -0.02127886,\n",
       "        -0.01899883, -0.01671881, -0.01443878, -0.01215876, -0.00987874,\n",
       "        -0.00759871, -0.00531869, -0.00303867, -0.00075864,  0.00152138,\n",
       "         0.00380141,  0.00608143,  0.00836145,  0.01064148,  0.0129215 ,\n",
       "         0.01520152,  0.01748155,  0.01976157,  0.02204159,  0.02432162,\n",
       "         0.02660164,  0.02888167,  0.03116169,  0.03344171,  0.03572174,\n",
       "         0.03800176,  0.04028178,  0.04256181,  0.04484183,  0.04712186,\n",
       "         0.04940188,  0.0516819 ,  0.05396193,  0.05624195,  0.05852197,\n",
       "         0.060802  ,  0.06308202,  0.06536205,  0.06764207,  0.06992209,\n",
       "         0.07220212,  0.07448214,  0.07676216,  0.07904219,  0.08132221,\n",
       "         0.08360224,  0.08588226,  0.08816228,  0.09044231,  0.09272233,\n",
       "         0.09500235,  0.09728238,  0.0995624 ,  0.10184243,  0.10412245,\n",
       "         0.10640247]),\n",
       " <BarContainer object of 100 artists>)"
      ]
     },
     "execution_count": 220,
     "metadata": {},
     "output_type": "execute_result"
    },
    {
     "data": {
      "image/png": "[encoded data removed]",
      "text/plain": [
       "<Figure size 432x288 with 1 Axes>"
      ]
     },
     "metadata": {
      "needs_background": "light"
     },
     "output_type": "display_data"
    }
   ],
   "source": [
    "plt.hist(test, bins=100)"
   ]
  },
  {
   "cell_type": "code",
   "execution_count": 269,
   "id": "1e8eeabc",
   "metadata": {},
   "outputs": [],
   "source": [
    "def cal_exteme_mu_sigma(alpha0, mu, sigma, mu1, sigma1):\n",
    "    alpha1 = 1 - alpha0\n",
    "    mu0 = (mu - alpha1 * mu1) / alpha0\n",
    "#     sigma0 = np.sqrt((sigma ** 2 - alpha1 * sigma1 ** 2 - alpha0 * alpha1 * (mu0 - mu1) **2) / alpha0)\n",
    "#     print((sigma ** 2 - alpha1 * sigma1 ** 2 - alpha0 * alpha1 * (mu0 - mu1) **2) / alpha0)\n",
    "    sigma0 = np.sqrt((sigma ** 2 - alpha1 * sigma1**2 -alpha1 * (mu1-mu)**2 -alpha0 * (mu0 - mu)**2) / alpha0)\n",
    "    return mu0, sigma0  \n",
    "\n",
    "def simulate_mg(alpha, mu, sigma, mu1, sigma1, size=(120, N)):\n",
    "    mu0, sigma0 = cal_exteme_mu_sigma(alpha, mu, sigma, mu1, sigma1)\n",
    "    print(mu0, sigma0)\n",
    "    \n",
    "    dist0 = stats.norm.rvs(loc=mu0, scale=sigma0, size=size)\n",
    "    dist1 = stats.norm.rvs(loc=mu1, scale=sigma1, size=size)\n",
    "    \n",
    "    alpha0 = stats.rv_discrete(name='custm', values=([0, 1], [1-alpha, alpha])).rvs(size=size)\n",
    "    alpha1 = -1 * (alpha0 - 1)\n",
    "    \n",
    "    dist = dist0 * alpha0 + dist1 * alpha1\n",
    "\n",
    "    return dist"
   ]
  },
  {
   "cell_type": "code",
   "execution_count": 276,
   "id": "1c4f6ced",
   "metadata": {},
   "outputs": [
    {
     "name": "stdout",
     "output_type": "stream",
     "text": [
      "0.0031944444444444455 0.04785724979587411\n"
     ]
    }
   ],
   "source": [
    "test = simulate_mg(0.3, 0.05 /12, 0.1/np.sqrt(12), 0.055/12, 0.05/np.sqrt(12), size=(10000,1))"
   ]
  },
  {
   "cell_type": "code",
   "execution_count": 277,
   "id": "41ed8218",
   "metadata": {},
   "outputs": [
    {
     "data": {
      "text/plain": [
       "(0.05708412159204286, 0.10079316944679838)"
      ]
     },
     "execution_count": 277,
     "metadata": {},
     "output_type": "execute_result"
    }
   ],
   "source": [
    "test.mean() * 12, test.std() * np.sqrt(12)"
   ]
  },
  {
   "cell_type": "code",
   "execution_count": 278,
   "id": "9260e8b8",
   "metadata": {},
   "outputs": [
    {
     "data": {
      "text/plain": [
       "(array([  2.,   3.,   3.,   3.,   2.,   0.,   2.,   4.,   3.,   3.,   4.,\n",
       "          4.,  10.,   4.,  13.,   7.,  11.,  13.,  16.,  30.,  23.,  33.,\n",
       "         43.,  34.,  39.,  46.,  52.,  51.,  49.,  59.,  66.,  87.,  95.,\n",
       "        123., 155., 228., 288., 382., 462., 561., 646., 728., 729., 772.,\n",
       "        698., 633., 538., 457., 368., 223., 204., 135., 107.,  96.,  69.,\n",
       "         73.,  53.,  57.,  51.,  36.,  45.,  27.,  33.,  22.,  33.,  24.,\n",
       "         15.,  10.,  13.,  14.,  18.,   9.,   8.,   6.,   7.,   4.,   7.,\n",
       "          8.,   2.,   1.,   1.,   2.,   1.,   0.,   1.,   0.,   0.,   0.,\n",
       "          1.,   1.,   0.,   0.,   0.,   0.,   0.,   0.,   0.,   0.,   0.,\n",
       "          1.]),\n",
       " array([-0.14467216, -0.14117833, -0.1376845 , -0.13419066, -0.13069683,\n",
       "        -0.127203  , -0.12370917, -0.12021534, -0.1167215 , -0.11322767,\n",
       "        -0.10973384, -0.10624001, -0.10274618, -0.09925234, -0.09575851,\n",
       "        -0.09226468, -0.08877085, -0.08527702, -0.08178318, -0.07828935,\n",
       "        -0.07479552, -0.07130169, -0.06780786, -0.06431402, -0.06082019,\n",
       "        -0.05732636, -0.05383253, -0.0503387 , -0.04684486, -0.04335103,\n",
       "        -0.0398572 , -0.03636337, -0.03286954, -0.0293757 , -0.02588187,\n",
       "        -0.02238804, -0.01889421, -0.01540038, -0.01190654, -0.00841271,\n",
       "        -0.00491888, -0.00142505,  0.00206878,  0.00556261,  0.00905645,\n",
       "         0.01255028,  0.01604411,  0.01953794,  0.02303177,  0.02652561,\n",
       "         0.03001944,  0.03351327,  0.0370071 ,  0.04050093,  0.04399477,\n",
       "         0.0474886 ,  0.05098243,  0.05447626,  0.05797009,  0.06146393,\n",
       "         0.06495776,  0.06845159,  0.07194542,  0.07543925,  0.07893309,\n",
       "         0.08242692,  0.08592075,  0.08941458,  0.09290841,  0.09640225,\n",
       "         0.09989608,  0.10338991,  0.10688374,  0.11037757,  0.11387141,\n",
       "         0.11736524,  0.12085907,  0.1243529 ,  0.12784673,  0.13134057,\n",
       "         0.1348344 ,  0.13832823,  0.14182206,  0.14531589,  0.14880973,\n",
       "         0.15230356,  0.15579739,  0.15929122,  0.16278505,  0.16627889,\n",
       "         0.16977272,  0.17326655,  0.17676038,  0.18025421,  0.18374805,\n",
       "         0.18724188,  0.19073571,  0.19422954,  0.19772337,  0.2012172 ,\n",
       "         0.20471104]),\n",
       " <BarContainer object of 100 artists>)"
      ]
     },
     "execution_count": 278,
     "metadata": {},
     "output_type": "execute_result"
    },
    {
     "data": {
      "image/png": "[encoded data removed]",
      "text/plain": [
       "<Figure size 432x288 with 1 Axes>"
      ]
     },
     "metadata": {
      "needs_background": "light"
     },
     "output_type": "display_data"
    }
   ],
   "source": [
    "plt.hist(test, bins=100)"
   ]
  },
  {
   "cell_type": "code",
   "execution_count": null,
   "id": "707c8728",
   "metadata": {},
   "outputs": [],
   "source": []
  }
 ],
 "metadata": {
  "kernelspec": {
   "display_name": "Python 3 (ipykernel)",
   "language": "python",
   "name": "python3"
  },
  "language_info": {
   "codemirror_mode": {
    "name": "ipython",
    "version": 3
   },
   "file_extension": ".py",
   "mimetype": "text/x-python",
   "name": "python",
   "nbconvert_exporter": "python",
   "pygments_lexer": "ipython3",
   "version": "3.8.8"
  },
  "toc": {
   "base_numbering": 1,
   "nav_menu": {},
   "number_sections": true,
   "sideBar": true,
   "skip_h1_title": false,
   "title_cell": "Table of Contents",
   "title_sidebar": "Contents",
   "toc_cell": false,
   "toc_position": {},
   "toc_section_display": true,
   "toc_window_display": false
  }
 },
 "nbformat": 4,
 "nbformat_minor": 5
}
