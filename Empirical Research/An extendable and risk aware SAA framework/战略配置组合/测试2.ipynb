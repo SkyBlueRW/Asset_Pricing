{
 "cells": [
  {
   "cell_type": "code",
   "execution_count": 1,
   "metadata": {},
   "outputs": [],
   "source": [
    "import sys \n",
    "import os \n",
    "import datetime\n",
    "\n",
    "import numpy as np \n",
    "import pandas as pd \n",
    "import matplotlib.pyplot as plt \n",
    "import matplotlib.ticker as mtick\n",
    "from IPython.display import display, HTML\n",
    "\n",
    "\n",
    "if \"D:/src/PortAttribute\" not in sys.path:\n",
    "    sys.path.insert(0, \"D:/src/PortAttribute\")\n",
    "if \"D:/src/Backtest\" not in sys.path:\n",
    "    sys.path.insert(0, \"D:/src/Backtest\")\n",
    "if \"D:/src/OptPort\" not in sys.path:\n",
    "    sys.path.insert(0, \"D:/src/OptPort\")\n",
    "if \"D:/src/DataApi\" not in sys.path:\n",
    "    sys.path.insert(0, \"D:/src/DataApi\")\n",
    "if \"D:/src/\" not in sys.path:\n",
    "    sys.path.insert(0, \"D:/src/\")\n",
    "if \"D:/Nowcast/\" not in sys.path:\n",
    "    sys.path.insert(0, \"D:/Nowcast/\")\n",
    "    \n",
    "from portattr import plotting, ret_metric, exante\n",
    "from fast_bt import simple_bt\n",
    "from optport import max_ret, estimator, risk_parity, risk_budget, max_div, max_div_vol, min_var, max_ret, mean_variance\n",
    "from dataapi import juyuan\n",
    "from nowcast import api"
   ]
  },
  {
   "cell_type": "code",
   "execution_count": 2,
   "metadata": {},
   "outputs": [],
   "source": [
    "DATA_PATH = \"D:/data\"\n",
    "def read_data(name):\n",
    "    data = pd.read_csv(DATA_PATH + \"/{}.csv\".format(name))\n",
    "    data['date'] = pd.to_datetime(data['date'].astype(str))\n",
    "    data = data.rename(columns={'date': '日期'})\n",
    "    return data"
   ]
  },
  {
   "cell_type": "code",
   "execution_count": 28,
   "metadata": {},
   "outputs": [],
   "source": [
    "asset_class = {\n",
    "    'H00905.CSI': '中证500',\n",
    "    'H00300.CSI': '沪深300',\n",
    "    'CBA02501.CS': '利率债',\n",
    "    'CBA02001.CS': '信用债',\n",
    "    'AU9999.SGE': '黄金',\n",
    "    'CN6112.CNI': '货币'\n",
    "}\n",
    "start_year = '2010'\n",
    "\n",
    "prc = read_data(\"AssetClose\")\n",
    "prc = prc.loc[prc['field'].isin(asset_class.keys()), :]\\\n",
    "         .pivot(index='日期', columns='field', values='close')\\\n",
    "         .rename(columns=asset_class)\n",
    "prc = prc.loc[:, ['沪深300', '中证500', '利率债', '信用债', '黄金', '货币']]\n",
    "\n",
    "prc.index.name = 'date'\n",
    "prc.columns.name = 'sid'\n",
    "prc = prc.ffill()\n",
    "daily_ret = prc.pct_change()"
   ]
  },
  {
   "cell_type": "code",
   "execution_count": 31,
   "metadata": {},
   "outputs": [
    {
     "data": {
      "text/plain": [
       "<AxesSubplot:xlabel='date'>"
      ]
     },
     "execution_count": 31,
     "metadata": {},
     "output_type": "execute_result"
    },
    {
     "data": {
      "image/png": "[encoded data removed]",
      "text/plain": [
       "<Figure size 864x576 with 1 Axes>"
      ]
     },
     "metadata": {
      "needs_background": "light"
     },
     "output_type": "display_data"
    }
   ],
   "source": [
    "prc['货币'].plot(figsize=(12, 8))"
   ]
  },
  {
   "cell_type": "code",
   "execution_count": 4,
   "metadata": {},
   "outputs": [],
   "source": [
    "bt_p = prc.loc[start_year: ].stack().to_frame('close')\n",
    "bt_p['open'] = bt_p['close']\n",
    "bt_p['vwap'] = bt_p['close']\n",
    "bt_p = bt_p.sort_index()"
   ]
  },
  {
   "cell_type": "code",
   "execution_count": 6,
   "metadata": {},
   "outputs": [],
   "source": [
    "def month_rebalance_date(dates_list, n=10):\n",
    "    \"\"\"\n",
    "    \"\"\"\n",
    "    tmp = pd.DataFrame({'date': dates_list})\n",
    "    tmp['month'] = tmp['date'].dt.month \n",
    "    tmp['year'] = tmp['date'].dt.year\n",
    "    tmp['rank'] = tmp.groupby(['year', 'month'])['date'].rank().astype(int)\n",
    "    tmp = tmp.query(\"rank == {}\".format(n))\n",
    "    return tmp['date'].tolist()\n",
    "\n",
    "def quarter_rebalance_date(dates_list, month=[2,5,8,11], n=10):\n",
    "    tmp = pd.DataFrame({'date': dates_list})\n",
    "    tmp['date'] = pd.to_datetime(tmp['date'])\n",
    "    tmp['month'] = tmp['date'].dt.month\n",
    "    tmp['year'] = tmp['date'].dt.year\n",
    "    tmp = tmp.loc[tmp['month'].isin(month)]\n",
    "    tmp['rank'] = tmp.groupby(['year', 'month'])['date'].rank().astype(int)\n",
    "    tmp = tmp.query(\"rank == {}\".format(n))\n",
    "    return tmp['date'].tolist()\n",
    "\n",
    "def week_rebalance_date(dates_list, n=1):\n",
    "    year, med, day = zip(*[x.isocalendar() for x in dates_list])\n",
    "    tmp = pd.DataFrame({\n",
    "            'dates': dates_list,\n",
    "            'year': year,\n",
    "            'med': med,\n",
    "            'day': day\n",
    "        })\n",
    "    tmp['rank'] = tmp.groupby([\"year\", \"med\"])[\"day\"].rank()\n",
    "    return tmp.query(\"rank=={}\".format(n))['dates'].tolist()"
   ]
  },
  {
   "cell_type": "code",
   "execution_count": 7,
   "metadata": {},
   "outputs": [],
   "source": [
    "month_dates = month_rebalance_date(prc.loc[start_year:].index.tolist(), n=10)\n",
    "week_dates = week_rebalance_date(prc.loc[start_year: ].index.tolist())\n",
    "quarter_dates = quarter_rebalance_date(prc.loc[start_year:].index.tolist(), n=11)"
   ]
  },
  {
   "cell_type": "code",
   "execution_count": 8,
   "metadata": {},
   "outputs": [],
   "source": [
    "# 组合\n",
    "port_res = dict()\n",
    "# 回测\n",
    "bt_res = dict()\n",
    "# 净值\n",
    "nav_res = pd.DataFrame()\n",
    "def show_bt_ret(start=start_year):\n",
    "    return pd.DataFrame({\n",
    "    x: ret_metric.cal_ret_summary(nav_res[x].iloc[1:, ].pct_change().loc[start:], 'daily',rf=0) for x in nav_res.columns\n",
    "})\n",
    "def show_mean_holding(start=start_year):\n",
    "    return pd.DataFrame({\n",
    "        x: port_res[x].loc[start:].mean() for x in port_res\n",
    "    } )"
   ]
  },
  {
   "cell_type": "code",
   "execution_count": 9,
   "metadata": {},
   "outputs": [],
   "source": [
    "var_dict = dict()\n",
    "\n",
    "for dt in sorted(month_dates + quarter_dates):\n",
    "    _temp = daily_ret.iloc[max(daily_ret.index.get_loc(dt) - 244 * 3, 0): daily_ret.index.get_loc(dt)]\\\n",
    "                     .loc[:, ['沪深300','中证500', '利率债', '信用债','黄金']]\n",
    "    cov_es = estimator.exp_cov_estimator(_temp, halflife=126) * 244\n",
    "    var_dict.update({dt: cov_es})"
   ]
  },
  {
   "cell_type": "code",
   "execution_count": 9,
   "metadata": {},
   "outputs": [
    {
     "name": "stdout",
     "output_type": "stream",
     "text": [
      "[Fast Backtest] default In Progress: 100%|########################################| 2895/2895 [00:05<00:00, 529.90it/s]\n",
      "[Fast Backtest] default In Progress: 100%|########################################| 2874/2874 [00:04<00:00, 666.59it/s]\n"
     ]
    }
   ],
   "source": [
    "_temp_dict = dict()\n",
    "for dt in sorted(quarter_dates + month_dates):\n",
    "    cov_es = var_dict[dt]\n",
    "    ret_es = pd.Series(np.diag(cov_es), index=cov_es.index) ** 0.5\n",
    "    wgt = max_div_vol(var_dict[dt], 0.03, max_budget=0.95, max_holding=[0.4,0.4, 0.5, 0.3, 0.2])\n",
    "    _temp_dict.update({dt: wgt})\n",
    "_temp_dict = pd.DataFrame(_temp_dict)\n",
    "_temp_dict = _temp_dict.T \n",
    "# _temp_dict = _temp_dict.div(_temp_dict.sum(axis=1), axis=0)\n",
    "_temp_dict['货币'] = 0.05\n",
    "port_res.update({'最大分散度3%': _temp_dict})\n",
    "bt_res.update({\n",
    "    '最大分散度3%_m': simple_bt(port_res['最大分散度3%'].reindex(month_dates), bt_p, init_cash=1e8)\n",
    "})\n",
    "nav_res['最大分散度3%_m'] = bt_res['最大分散度3%_m'].history_market_value + bt_res['最大分散度3%_m'].history_cash\n",
    "bt_res.update({\n",
    "    '最大分散度3%_q': simple_bt(port_res['最大分散度3%'].reindex(quarter_dates), bt_p, init_cash=1e8)\n",
    "})\n",
    "nav_res['最大分散度3%_q'] = bt_res['最大分散度3%_q'].history_market_value + bt_res['最大分散度3%_q'].history_cash"
   ]
  },
  {
   "cell_type": "code",
   "execution_count": 10,
   "metadata": {},
   "outputs": [
    {
     "name": "stdout",
     "output_type": "stream",
     "text": [
      "[Fast Backtest] default In Progress: 100%|########################################| 2895/2895 [00:05<00:00, 507.12it/s]\n",
      "[Fast Backtest] default In Progress: 100%|########################################| 2874/2874 [00:04<00:00, 589.91it/s]\n"
     ]
    }
   ],
   "source": [
    "_temp_dict = dict()\n",
    "for dt in sorted(quarter_dates + month_dates):\n",
    "    cov_es = var_dict[dt]\n",
    "    ret_es = pd.Series(np.diag(cov_es), index=cov_es.index) ** 0.5\n",
    "    wgt = max_div_vol(var_dict[dt], 0.06, max_budget=0.95, max_holding=[0.4,0.4, 0.5, 0.3, 0.25])\n",
    "    _temp_dict.update({dt: wgt})\n",
    "_temp_dict = pd.DataFrame(_temp_dict)\n",
    "_temp_dict = _temp_dict.T \n",
    "# _temp_dict = _temp_dict.div(_temp_dict.sum(axis=1), axis=0)\n",
    "_temp_dict['货币'] = 0.05\n",
    "port_res.update({'最大分散度6%': _temp_dict})\n",
    "bt_res.update({\n",
    "    '最大分散度6%_m': simple_bt(port_res['最大分散度6%'].reindex(month_dates), bt_p, init_cash=1e8)\n",
    "})\n",
    "nav_res['最大分散度6%_m'] = bt_res['最大分散度6%_m'].history_market_value + bt_res['最大分散度6%_m'].history_cash\n",
    "bt_res.update({\n",
    "    '最大分散度6%_q': simple_bt(port_res['最大分散度6%'].reindex(quarter_dates), bt_p, init_cash=1e8)\n",
    "})\n",
    "nav_res['最大分散度6%_q'] = bt_res['最大分散度6%_q'].history_market_value + bt_res['最大分散度6%_q'].history_cash"
   ]
  },
  {
   "cell_type": "code",
   "execution_count": 11,
   "metadata": {},
   "outputs": [
    {
     "name": "stdout",
     "output_type": "stream",
     "text": [
      "[Fast Backtest] default In Progress: 100%|########################################| 2895/2895 [00:05<00:00, 504.91it/s]\n",
      "[Fast Backtest] default In Progress: 100%|########################################| 2874/2874 [00:04<00:00, 624.55it/s]\n"
     ]
    }
   ],
   "source": [
    "_temp_dict = dict()\n",
    "for dt in sorted(quarter_dates + month_dates):\n",
    "    cov_es = var_dict[dt]\n",
    "    ret_es = pd.Series(np.diag(cov_es), index=cov_es.index) ** 0.5\n",
    "    wgt = max_div_vol(var_dict[dt], 0.1, max_budget=0.95, max_holding=[0.4, 0.4, 0.5, 0.3, 0.25])\n",
    "    _temp_dict.update({dt: wgt})\n",
    "_temp_dict = pd.DataFrame(_temp_dict)\n",
    "_temp_dict = _temp_dict.T \n",
    "# _temp_dict = _temp_dict.div(_temp_dict.sum(axis=1), axis=0)\n",
    "_temp_dict['货币'] = 0.05\n",
    "port_res.update({'最大分散度10%': _temp_dict})\n",
    "bt_res.update({\n",
    "    '最大分散度10%_m': simple_bt(port_res['最大分散度10%'].reindex(month_dates), bt_p, init_cash=1e8)\n",
    "})\n",
    "nav_res['最大分散度10%_m'] = bt_res['最大分散度10%_m'].history_market_value + bt_res['最大分散度10%_m'].history_cash\n",
    "bt_res.update({\n",
    "    '最大分散度10%_q': simple_bt(port_res['最大分散度10%'].reindex(quarter_dates), bt_p, init_cash=1e8)\n",
    "})\n",
    "nav_res['最大分散度10%_q'] = bt_res['最大分散度10%_q'].history_market_value + bt_res['最大分散度10%_q'].history_cash"
   ]
  },
  {
   "cell_type": "code",
   "execution_count": 12,
   "metadata": {},
   "outputs": [
    {
     "name": "stdout",
     "output_type": "stream",
     "text": [
      "[Fast Backtest] default In Progress: 100%|########################################| 2895/2895 [00:05<00:00, 515.67it/s]\n",
      "[Fast Backtest] default In Progress: 100%|########################################| 2874/2874 [00:04<00:00, 636.84it/s]\n"
     ]
    }
   ],
   "source": [
    "_temp_dict = dict()\n",
    "for dt in sorted(quarter_dates + month_dates):\n",
    "    cov_es = var_dict[dt]\n",
    "    ret_es = pd.Series(np.diag(cov_es), index=cov_es.index) ** 0.5\n",
    "    wgt = risk_parity(var_dict[dt])\n",
    "    _temp_dict.update({dt: wgt})\n",
    "_temp_dict = pd.DataFrame(_temp_dict)\n",
    "_temp_dict = _temp_dict.T \n",
    "_temp_dict *= 0.95\n",
    "# _temp_dict = _temp_dict.div(_temp_dict.sum(axis=1), axis=0)\n",
    "_temp_dict['货币'] = 0.05\n",
    "port_res.update({'风险平价': _temp_dict})\n",
    "bt_res.update({\n",
    "    '风险平价_m': simple_bt(port_res['风险平价'].reindex(month_dates), bt_p, init_cash=1e8)\n",
    "})\n",
    "nav_res['风险平价_m'] = bt_res['风险平价_m'].history_market_value + bt_res['风险平价_m'].history_cash\n",
    "bt_res.update({\n",
    "    '风险平价_q': simple_bt(port_res['风险平价'].reindex(quarter_dates), bt_p, init_cash=1e8)\n",
    "})\n",
    "nav_res['风险平价_q'] = bt_res['风险平价_q'].history_market_value + bt_res['风险平价_q'].history_cash"
   ]
  },
  {
   "cell_type": "code",
   "execution_count": 13,
   "metadata": {},
   "outputs": [
    {
     "data": {
      "text/html": [
       "<div>\n",
       "<style scoped>\n",
       "    .dataframe tbody tr th:only-of-type {\n",
       "        vertical-align: middle;\n",
       "    }\n",
       "\n",
       "    .dataframe tbody tr th {\n",
       "        vertical-align: top;\n",
       "    }\n",
       "\n",
       "    .dataframe thead th {\n",
       "        text-align: right;\n",
       "    }\n",
       "</style>\n",
       "<table border=\"1\" class=\"dataframe\">\n",
       "  <thead>\n",
       "    <tr style=\"text-align: right;\">\n",
       "      <th></th>\n",
       "      <th>最大分散度3%_m</th>\n",
       "      <th>最大分散度3%_q</th>\n",
       "      <th>最大分散度6%_m</th>\n",
       "      <th>最大分散度6%_q</th>\n",
       "      <th>最大分散度10%_m</th>\n",
       "      <th>最大分散度10%_q</th>\n",
       "      <th>风险平价_m</th>\n",
       "      <th>风险平价_q</th>\n",
       "    </tr>\n",
       "  </thead>\n",
       "  <tbody>\n",
       "    <tr>\n",
       "      <th>夏普</th>\n",
       "      <td>1.47</td>\n",
       "      <td>1.49</td>\n",
       "      <td>0.76</td>\n",
       "      <td>0.77</td>\n",
       "      <td>0.54</td>\n",
       "      <td>0.55</td>\n",
       "      <td>2.79</td>\n",
       "      <td>2.71</td>\n",
       "    </tr>\n",
       "    <tr>\n",
       "      <th>总收益率</th>\n",
       "      <td>68.1%</td>\n",
       "      <td>70.3%</td>\n",
       "      <td>67.7%</td>\n",
       "      <td>70.3%</td>\n",
       "      <td>76.5%</td>\n",
       "      <td>80.5%</td>\n",
       "      <td>71.7%</td>\n",
       "      <td>70.7%</td>\n",
       "    </tr>\n",
       "    <tr>\n",
       "      <th>年化收益率</th>\n",
       "      <td>4.4%</td>\n",
       "      <td>4.5%</td>\n",
       "      <td>4.6%</td>\n",
       "      <td>4.7%</td>\n",
       "      <td>5.3%</td>\n",
       "      <td>5.5%</td>\n",
       "      <td>4.6%</td>\n",
       "      <td>4.5%</td>\n",
       "    </tr>\n",
       "    <tr>\n",
       "      <th>年化波动率</th>\n",
       "      <td>3.0%</td>\n",
       "      <td>3.1%</td>\n",
       "      <td>6.0%</td>\n",
       "      <td>6.1%</td>\n",
       "      <td>9.9%</td>\n",
       "      <td>10.1%</td>\n",
       "      <td>1.6%</td>\n",
       "      <td>1.7%</td>\n",
       "    </tr>\n",
       "    <tr>\n",
       "      <th>年化下行波动率</th>\n",
       "      <td>2.2%</td>\n",
       "      <td>2.3%</td>\n",
       "      <td>4.3%</td>\n",
       "      <td>4.3%</td>\n",
       "      <td>6.9%</td>\n",
       "      <td>7.1%</td>\n",
       "      <td>1.3%</td>\n",
       "      <td>1.3%</td>\n",
       "    </tr>\n",
       "    <tr>\n",
       "      <th>最大回撤</th>\n",
       "      <td>-5.7%</td>\n",
       "      <td>-5.6%</td>\n",
       "      <td>-10.4%</td>\n",
       "      <td>-10.6%</td>\n",
       "      <td>-19.4%</td>\n",
       "      <td>-19.8%</td>\n",
       "      <td>-3.6%</td>\n",
       "      <td>-3.6%</td>\n",
       "    </tr>\n",
       "    <tr>\n",
       "      <th>最大回撤期起</th>\n",
       "      <td>2013-02-15</td>\n",
       "      <td>2013-02-15</td>\n",
       "      <td>2018-01-26</td>\n",
       "      <td>2018-01-26</td>\n",
       "      <td>2018-01-26</td>\n",
       "      <td>2018-01-26</td>\n",
       "      <td>2016-10-24</td>\n",
       "      <td>2016-10-24</td>\n",
       "    </tr>\n",
       "    <tr>\n",
       "      <th>最大回撤期止</th>\n",
       "      <td>2013-12-20</td>\n",
       "      <td>2013-12-20</td>\n",
       "      <td>2018-10-11</td>\n",
       "      <td>2018-10-11</td>\n",
       "      <td>2018-10-30</td>\n",
       "      <td>2018-10-30</td>\n",
       "      <td>2016-12-20</td>\n",
       "      <td>2016-12-20</td>\n",
       "    </tr>\n",
       "    <tr>\n",
       "      <th>最长回撤期起</th>\n",
       "      <td>2013-02-15</td>\n",
       "      <td>2013-02-15</td>\n",
       "      <td>2013-02-15</td>\n",
       "      <td>2013-02-15</td>\n",
       "      <td>2010-11-09</td>\n",
       "      <td>2018-01-26</td>\n",
       "      <td>2010-10-19</td>\n",
       "      <td>2010-10-19</td>\n",
       "    </tr>\n",
       "    <tr>\n",
       "      <th>最长回撤期止</th>\n",
       "      <td>2014-07-23</td>\n",
       "      <td>2014-07-23</td>\n",
       "      <td>2014-12-05</td>\n",
       "      <td>2014-12-05</td>\n",
       "      <td>2013-01-25</td>\n",
       "      <td>2020-07-02</td>\n",
       "      <td>2011-11-02</td>\n",
       "      <td>2011-11-02</td>\n",
       "    </tr>\n",
       "    <tr>\n",
       "      <th>胜率</th>\n",
       "      <td>56.3%</td>\n",
       "      <td>55.8%</td>\n",
       "      <td>53.8%</td>\n",
       "      <td>53.5%</td>\n",
       "      <td>52.7%</td>\n",
       "      <td>52.3%</td>\n",
       "      <td>60.8%</td>\n",
       "      <td>60.5%</td>\n",
       "    </tr>\n",
       "    <tr>\n",
       "      <th>盈亏比</th>\n",
       "      <td>100.5%</td>\n",
       "      <td>101.3%</td>\n",
       "      <td>97.9%</td>\n",
       "      <td>98.2%</td>\n",
       "      <td>98.5%</td>\n",
       "      <td>98.9%</td>\n",
       "      <td>106.4%</td>\n",
       "      <td>104.4%</td>\n",
       "    </tr>\n",
       "    <tr>\n",
       "      <th>偏度</th>\n",
       "      <td>-0.13</td>\n",
       "      <td>-0.10</td>\n",
       "      <td>-0.29</td>\n",
       "      <td>-0.30</td>\n",
       "      <td>-0.32</td>\n",
       "      <td>-0.35</td>\n",
       "      <td>-0.19</td>\n",
       "      <td>-0.22</td>\n",
       "    </tr>\n",
       "    <tr>\n",
       "      <th>峰度</th>\n",
       "      <td>4.70</td>\n",
       "      <td>5.06</td>\n",
       "      <td>3.97</td>\n",
       "      <td>4.24</td>\n",
       "      <td>3.14</td>\n",
       "      <td>3.60</td>\n",
       "      <td>7.82</td>\n",
       "      <td>7.64</td>\n",
       "    </tr>\n",
       "  </tbody>\n",
       "</table>\n",
       "</div>"
      ],
      "text/plain": [
       "          最大分散度3%_m   最大分散度3%_q   最大分散度6%_m   最大分散度6%_q  最大分散度10%_m  \\\n",
       "夏普             1.47        1.49        0.76        0.77        0.54   \n",
       "总收益率          68.1%       70.3%       67.7%       70.3%       76.5%   \n",
       "年化收益率          4.4%        4.5%        4.6%        4.7%        5.3%   \n",
       "年化波动率          3.0%        3.1%        6.0%        6.1%        9.9%   \n",
       "年化下行波动率        2.2%        2.3%        4.3%        4.3%        6.9%   \n",
       "最大回撤          -5.7%       -5.6%      -10.4%      -10.6%      -19.4%   \n",
       "最大回撤期起   2013-02-15  2013-02-15  2018-01-26  2018-01-26  2018-01-26   \n",
       "最大回撤期止   2013-12-20  2013-12-20  2018-10-11  2018-10-11  2018-10-30   \n",
       "最长回撤期起   2013-02-15  2013-02-15  2013-02-15  2013-02-15  2010-11-09   \n",
       "最长回撤期止   2014-07-23  2014-07-23  2014-12-05  2014-12-05  2013-01-25   \n",
       "胜率            56.3%       55.8%       53.8%       53.5%       52.7%   \n",
       "盈亏比          100.5%      101.3%       97.9%       98.2%       98.5%   \n",
       "偏度            -0.13       -0.10       -0.29       -0.30       -0.32   \n",
       "峰度             4.70        5.06        3.97        4.24        3.14   \n",
       "\n",
       "         最大分散度10%_q      风险平价_m      风险平价_q  \n",
       "夏普             0.55        2.79        2.71  \n",
       "总收益率          80.5%       71.7%       70.7%  \n",
       "年化收益率          5.5%        4.6%        4.5%  \n",
       "年化波动率         10.1%        1.6%        1.7%  \n",
       "年化下行波动率        7.1%        1.3%        1.3%  \n",
       "最大回撤         -19.8%       -3.6%       -3.6%  \n",
       "最大回撤期起   2018-01-26  2016-10-24  2016-10-24  \n",
       "最大回撤期止   2018-10-30  2016-12-20  2016-12-20  \n",
       "最长回撤期起   2018-01-26  2010-10-19  2010-10-19  \n",
       "最长回撤期止   2020-07-02  2011-11-02  2011-11-02  \n",
       "胜率            52.3%       60.8%       60.5%  \n",
       "盈亏比           98.9%      106.4%      104.4%  \n",
       "偏度            -0.35       -0.19       -0.22  \n",
       "峰度             3.60        7.82        7.64  "
      ]
     },
     "execution_count": 13,
     "metadata": {},
     "output_type": "execute_result"
    }
   ],
   "source": [
    "show_bt_ret()"
   ]
  },
  {
   "cell_type": "code",
   "execution_count": 15,
   "metadata": {},
   "outputs": [
    {
     "data": {
      "text/html": [
       "<div>\n",
       "<style scoped>\n",
       "    .dataframe tbody tr th:only-of-type {\n",
       "        vertical-align: middle;\n",
       "    }\n",
       "\n",
       "    .dataframe tbody tr th {\n",
       "        vertical-align: top;\n",
       "    }\n",
       "\n",
       "    .dataframe thead th {\n",
       "        text-align: right;\n",
       "    }\n",
       "</style>\n",
       "<table border=\"1\" class=\"dataframe\">\n",
       "  <thead>\n",
       "    <tr style=\"text-align: right;\">\n",
       "      <th></th>\n",
       "      <th>最大分散度3%</th>\n",
       "      <th>最大分散度6%</th>\n",
       "      <th>最大分散度10%</th>\n",
       "      <th>风险平价</th>\n",
       "    </tr>\n",
       "  </thead>\n",
       "  <tbody>\n",
       "    <tr>\n",
       "      <th>沪深300</th>\n",
       "      <td>0.060276</td>\n",
       "      <td>0.133909</td>\n",
       "      <td>0.250769</td>\n",
       "      <td>0.027278</td>\n",
       "    </tr>\n",
       "    <tr>\n",
       "      <th>中证500</th>\n",
       "      <td>0.067939</td>\n",
       "      <td>0.148097</td>\n",
       "      <td>0.273524</td>\n",
       "      <td>0.032744</td>\n",
       "    </tr>\n",
       "    <tr>\n",
       "      <th>利率债</th>\n",
       "      <td>0.469933</td>\n",
       "      <td>0.332583</td>\n",
       "      <td>0.091091</td>\n",
       "      <td>0.408123</td>\n",
       "    </tr>\n",
       "    <tr>\n",
       "      <th>信用债</th>\n",
       "      <td>0.222614</td>\n",
       "      <td>0.106585</td>\n",
       "      <td>0.089139</td>\n",
       "      <td>0.430794</td>\n",
       "    </tr>\n",
       "    <tr>\n",
       "      <th>黄金</th>\n",
       "      <td>0.128993</td>\n",
       "      <td>0.228826</td>\n",
       "      <td>0.245477</td>\n",
       "      <td>0.051060</td>\n",
       "    </tr>\n",
       "    <tr>\n",
       "      <th>货币</th>\n",
       "      <td>0.050000</td>\n",
       "      <td>0.050000</td>\n",
       "      <td>0.050000</td>\n",
       "      <td>0.050000</td>\n",
       "    </tr>\n",
       "  </tbody>\n",
       "</table>\n",
       "</div>"
      ],
      "text/plain": [
       "        最大分散度3%   最大分散度6%  最大分散度10%      风险平价\n",
       "沪深300  0.060276  0.133909  0.250769  0.027278\n",
       "中证500  0.067939  0.148097  0.273524  0.032744\n",
       "利率债    0.469933  0.332583  0.091091  0.408123\n",
       "信用债    0.222614  0.106585  0.089139  0.430794\n",
       "黄金     0.128993  0.228826  0.245477  0.051060\n",
       "货币     0.050000  0.050000  0.050000  0.050000"
      ]
     },
     "execution_count": 15,
     "metadata": {},
     "output_type": "execute_result"
    }
   ],
   "source": [
    "show_mean_holding()"
   ]
  },
  {
   "cell_type": "code",
   "execution_count": 5,
   "metadata": {},
   "outputs": [],
   "source": [
    "from pypfopt.hierarchical_portfolio import HRPOpt"
   ]
  },
  {
   "cell_type": "code",
   "execution_count": 24,
   "metadata": {},
   "outputs": [],
   "source": [
    "model = HRPOpt(daily_ret.loc['2016':].drop(['货币'], axis=1))"
   ]
  },
  {
   "cell_type": "code",
   "execution_count": 25,
   "metadata": {},
   "outputs": [
    {
     "data": {
      "text/plain": [
       "OrderedDict([('中证500', 0.001111792358210708),\n",
       "             ('信用债', 0.7006896653830076),\n",
       "             ('利率债', 0.2897618904952645),\n",
       "             ('沪深300', 0.0015488349414478388),\n",
       "             ('黄金', 0.0068878168220694504)])"
      ]
     },
     "execution_count": 25,
     "metadata": {},
     "output_type": "execute_result"
    }
   ],
   "source": [
    "model.optimize()"
   ]
  },
  {
   "cell_type": "code",
   "execution_count": 26,
   "metadata": {},
   "outputs": [
    {
     "data": {
      "text/plain": [
       "(0.044191562596690596, 0.010717529975526888, 2.25719570198835)"
      ]
     },
     "execution_count": 26,
     "metadata": {},
     "output_type": "execute_result"
    }
   ],
   "source": [
    "model.portfolio_performance()"
   ]
  },
  {
   "cell_type": "code",
   "execution_count": null,
   "metadata": {},
   "outputs": [],
   "source": []
  }
 ],
 "metadata": {
  "kernelspec": {
   "display_name": "Python 3",
   "language": "python",
   "name": "python3"
  },
  "language_info": {
   "codemirror_mode": {
    "name": "ipython",
    "version": 3
   },
   "file_extension": ".py",
   "mimetype": "text/x-python",
   "name": "python",
   "nbconvert_exporter": "python",
   "pygments_lexer": "ipython3",
   "version": "3.8.5"
  },
  "toc": {
   "base_numbering": 1,
   "nav_menu": {},
   "number_sections": true,
   "sideBar": true,
   "skip_h1_title": false,
   "title_cell": "Table of Contents",
   "title_sidebar": "Contents",
   "toc_cell": false,
   "toc_position": {},
   "toc_section_display": true,
   "toc_window_display": false
  }
 },
 "nbformat": 4,
 "nbformat_minor": 4
}
